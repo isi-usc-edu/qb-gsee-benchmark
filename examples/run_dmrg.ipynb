{
 "cells": [
  {
   "cell_type": "markdown",
   "metadata": {},
   "source": [
    "# Running Instructions\n",
    "\n",
    "Below instructions tested in Ubuntu 22.04.3 (Windows Subsystem for Linux 2, WSL2). This notebook will likely also work on MaxOS X.\n",
    "1. Download the GSEE benchmark from Github: https://github.com/isi-usc-edu/qb-gsee-benchmark/archive/refs/heads/main.zip\n",
    "2. Using a terminal, clone the benchmark repository: `git clone https://github.com/isi-usc-edu/qb-gsee-benchmark.git`\n",
    "3. Enter the benchmark folder: `cd qb-gsee-benchmark`\n",
    "4. Create a clean Python 3.10 virtual environment ([Python Website](https://www.python.org/downloads/)) with this command: `python -m venv env_qb_benchmark`\n",
    "5. Activate environment: `source env_qb_benchmark/bin/activate`\n",
    "6. Install benchmark software: `python -m pip install -e .`\n",
    "7. Enter examples folder: `cd examples`\n",
    "8. Open this notebook: `jupyter notebook run_dmrg.ipynb` \n",
    "9. Copy and paste the provided URL to a web browser. The URL will look like `http://localhost:8888/tree?token=62cc0dcd33bf946ec260fed02b19b6a453f9b89107dd2d70`\n",
    "10. Open `run_dmrg.ipynb`\n",
    "11. Update relevant parameters as needed; see [General Parameters](#general-parameters) and [DMRG Parameters](#dmrg-parameters.)\n",
    "12. Run all cells of the notebook. The whole notebook should run in less than 15 min on a laptop.\n",
    "\n"
   ]
  },
  {
   "cell_type": "code",
   "execution_count": null,
   "metadata": {},
   "outputs": [],
   "source": [
    "%reset -f \n",
    "# Install pip packages in the current Jupyter kernel (from https://jakevdp.github.io/blog/2017/12/05/installing-python-packages-from-jupyter/)\n",
    "import sys\n",
    "# Install DMRG\n",
    "!{sys.executable} -m pip install --extra-index-url=https://block-hczhai.github.io/block2-preview/pypi/ git+https://github.com/jtcantin/dmrghandler\n",
    "\n",
    "!{sys.executable} -m pip install paramiko h5py numpy \n",
    "\n",
    "# This cell took about 8 minutes on the authors machine for the first time, but only about 7 seconds after that.\n",
    "# For the chosen problem instances, DMRG should take no more than 15min to run on a laptop."
   ]
  },
  {
   "cell_type": "code",
   "execution_count": 2,
   "metadata": {},
   "outputs": [],
   "source": [
    "import os\n",
    "from pathlib import Path\n",
    "import json\n",
    "import dmrghandler.config_io as config_io\n",
    "import dmrghandler.slurm_scripts as slurm_scripts\n",
    "import h5py\n",
    "import run_support\n",
    "import qb_gsee_benchmark.utils"
   ]
  },
  {
   "cell_type": "markdown",
   "metadata": {},
   "source": [
    "# General Parameters"
   ]
  },
  {
   "cell_type": "code",
   "execution_count": 3,
   "metadata": {},
   "outputs": [],
   "source": [
    "remove_temp_files = True # IMPORTANT: If you want to keep the DRMG output files, not just the jsons, set this to False\n",
    "environment_path=Path(\"../env_qb_benchmark\")\n",
    "ppk_path=\"/mnt/c/darpa-qb-key.ppk\" # Update this to the path of your private key\n",
    "sftp_username=\"darpa-qb\" # Update this to your username\n",
    "local_store_path = Path(\"dmrg_calculation_storage\")\n",
    "repository_url = \"https://github.com/isi-usc-edu/qb-gsee-benchmark/archive/refs/heads/main.zip\"\n",
    "\n",
    "solution_save_location = \"solution_jsons\"\n",
    "problem_instance_files_repository_path = (\n",
    "    \"problem_instances\"\n",
    ")\n",
    "\n",
    "chosen_problem_instance_files = [\n",
    "    # \"problem_instance.mn_mono.cb40f3f7-ffe8-40e8-4544-f26aad5a8bd8.json\",\n",
    "    # \"problem_instance.planted_solution_0007.3aaf0bb4-b412-4746-922a-c380b4024d00.json\",\n",
    "    # \"problem_instance.planted_solution_0010.bf3fb654-72c7-4fd4-bfd1-9ffef5aaebd8.json\",\n",
    "    \"problem_instance.planted_solution_0001.3d3b9e8a-7842-4ca1-bd82-eddb9804972d.json\",\n",
    "    \"problem_instance.planted_solution_0008.b57eb979-5c09-4974-97b4-5862e109a1ae.json\",\n",
    "]\n",
    "\n",
    "\n",
    "json_solution_schema_url = \"https://raw.githubusercontent.com/isi-usc-edu/qb-gsee-benchmark/main/schemas/solution.schema.0.0.1.json\"\n",
    "json_solution_schema_url_file = json_solution_schema_url\n",
    "\n",
    "contact_info = [{\n",
    "    \"name\": \"Example E. Example\",\n",
    "    \"email\": \"example@example.ca\",\n",
    "    \"institution\": \"University of Example\",\n",
    "}]\n",
    "compute_details = {\n",
    "    \"computing_environment_name\": \"Example Computer\",\n",
    "    \"cpu_description\": 'Intel i5-1135G7 @ 2.40GHz',\n",
    "    \"ram_available_gb\": \"16GB\",\n",
    "    \"clock_speed\": \"2.4 GHz\",\n",
    "    \"total_num_cores\" : 4,\n",
    "}\n",
    "\n",
    "solver_details = {\n",
    "\"solver_uuid\":\"13474cee-e648-48d3-9526-0314533ae30d\",\n",
    "\"solver_short_name\":\"DMRG_surface_lowest_energy\",\n",
    "\"compute_hardware_type\":\"classical_computer\",\n",
    "\"classical_hardware_details\":compute_details,\n",
    "\"algorithm_details\":\"DMRG with the lowest variational energy obtained so far.\",\n",
    "\"software_details\":\"Block2 v0.5.3rc16 with dmrghandler, commit version d603fdc6409fc194a416aa3a519362d5d91790d9 or later.\",\n",
    "}"
   ]
  },
  {
   "cell_type": "markdown",
   "metadata": {},
   "source": [
    "### Obtain Problem Instance and FCIDUMP Files"
   ]
  },
  {
   "cell_type": "code",
   "execution_count": 4,
   "metadata": {},
   "outputs": [],
   "source": [
    "# Obtain problem instance files\n",
    "repository_path = Path(\"../\")\n",
    "problem_instance_files_path = repository_path / problem_instance_files_repository_path\n",
    "problem_instance_files = list(problem_instance_files_path.glob(\"*.json\"))"
   ]
  },
  {
   "cell_type": "code",
   "execution_count": null,
   "metadata": {},
   "outputs": [],
   "source": [
    "# Download and save FCIDUMPs as listed in chosen_problem_instance_files\n",
    "data_file_list = run_support.download_task_fcidump_files(\n",
    "    chosen_problem_instance_files,\n",
    "    problem_instance_files_path,\n",
    "    local_store_path,\n",
    "    ppk_path,\n",
    "    sftp_username,\n",
    ")\n",
    "print(data_file_list)"
   ]
  },
  {
   "cell_type": "markdown",
   "metadata": {},
   "source": [
    "# DMRG Parameters "
   ]
  },
  {
   "cell_type": "code",
   "execution_count": null,
   "metadata": {},
   "outputs": [],
   "source": [
    "# DMRG parameters for dmrghanlder\n",
    "# dmrghandler is a wrapper for Block2: https://block2.readthedocs.io/en/latest/#\n",
    "\n",
    "# To simply run the script, you only need to update the following:\n",
    "#       num_threads_list              # Ensure this is not more than the number of cores (or threads) on your machine\n",
    "#       n_mkl_threads_list            # Ensure this is not more than the number of cores (or threads) on your machine\n",
    "#       stack_mem                     # Ensure this is less than the total memory available on your machine; not a hard memory limit on Block2, though\n",
    "#       python_environment_location   # Update this to the path of your python environment where this notebook is running; if the running instructions are followed, this need not be changed\n",
    "\n",
    "# For more control of the calculation, consider also changing:\n",
    "#       max_time_limit_sec_list\n",
    "#       starting_bond_dimension_list\n",
    "#       max_num_sweeps_list\n",
    "#       sweep_schedule_bond_dims_parameters\n",
    "#       sweep_schedule_noise_list\n",
    "#       sweep_schedule_davidson_threshold_list\n",
    "#       init_state_seed_list\n",
    "#       symmetry_type_list\n",
    "#       reordering_method_list\n",
    "#       config_file_prefix\n",
    "#       job_name\n",
    "\n",
    "# For all list parameters, if a list with more than one value is given, the length of the list\n",
    "# must be the same as the length of data_file_list\n",
    "# If a single value is given, it will be used for all FCIDUMP files\n",
    "config_dict = {\n",
    "    \"plot_filename_prefix_list\": [\n",
    "        Path(fcidump_file).stem for fcidump_file in data_file_list\n",
    "    ],\n",
    "    \"main_storage_folder_path_prefix\": str(local_store_path),\n",
    "    \"max_bond_dimension_list\": [10],\n",
    "    \"max_time_limit_sec_list\": [5 * 60],  # Max time limit per FCIDUMP file in seconds\n",
    "    \"min_energy_change_hartree_list\": [\n",
    "        1e-4\n",
    "    ],  # Convergence threshold as the bond dimension is increased\n",
    "    \"extrapolation_type_list\": [\"discard_weights\"],  # Auto extrapolation, unreliable\n",
    "    \"starting_bond_dimension_list\": [4],\n",
    "    \"max_num_sweeps_list\": [20],\n",
    "    \"energy_convergence_threshold_list\": [1e-8],\n",
    "    \"sweep_schedule_bond_dims_parameters\": [\n",
    "        [(2, 4), (1, 5)]\n",
    "    ],  # (division_factor, count),\n",
    "    # e.g. [(2, 4), (1, 5)] and bond dimension of 3 -> [1, 1, 1, 1, 3, 3, 3, 3, 3]\n",
    "    \"sweep_schedule_noise_list\": [[1e-4] * 4 + [1e-5] * 4 + [0]],\n",
    "    \"sweep_schedule_davidson_threshold_list\": [[1e-10] * 9],\n",
    "    \"init_state_bond_dimension_division_factor_list\": [2],\n",
    "    \"init_state_seed_list\": [\n",
    "        658724\n",
    "    ],  # Random number generator seed for choosing the initial MPS state\n",
    "    \"initial_mps_method_list\": [\"random\"],\n",
    "    \"factor_half_convention_list\": [True],  # True for standard FCIDUMP files\n",
    "    \"symmetry_type_list\": [\"SU(2)\"],  # \"SZ\" or \"SU(2)\"\n",
    "    \"num_threads_list\": [4],\n",
    "    \"n_mkl_threads_list\": [4],\n",
    "    \"track_mem\": [False],\n",
    "    \"reordering_method_list\": [\"fiedler, interaction matrix\"],\n",
    "    \"calc_v_score_bool_list\": [True],\n",
    "}\n",
    "\n",
    "dmrg_advanced_config = {\n",
    "    \"occupancy_hint\": None,\n",
    "    \"full_fci_space_bool\": True,\n",
    "    \"init_state_direct_two_site_construction_bool\": False,\n",
    "    \"davidson_type\": None,  # Default is None, for \"Normal\"\n",
    "    \"eigenvalue_cutoff\": 1e-20,  # Cutoff of eigenvalues, default is 1e-20\n",
    "    \"davidson_max_iterations\": 4000,  # Default is 4000\n",
    "    \"davidson_max_krylov_subspace_size\": 50,  # Default is 50\n",
    "    \"lowmem_noise_bool\": False,  # Whether to use a lower memory version of the noise, default is False\n",
    "    \"sweep_start\": 0,  # Default is 0, where to start sweep\n",
    "    \"initial_sweep_direction\": None,  # Default is None, True means forward sweep (left-to-right)\n",
    "    \"stack_mem\": 10\n",
    "    * 1024\n",
    "    * 1024\n",
    "    * 1024,  # in bytes; ensure that this value is less than the total memory available\n",
    "    \"stack_mem_ratio\": 0.9,\n",
    "    # \"do_single_calc\": False,\n",
    "    \"num_states\": 1,  # Number of states to calculate, default is 1, the ground state\n",
    "}\n",
    "\n",
    "# Generate configuration files\n",
    "config_files_list, config_dict_single_file_list = config_io.gen_config_files(\n",
    "    data_file_list=data_file_list,\n",
    "    config_dict=config_dict,\n",
    "    dmrg_advanced_config=dmrg_advanced_config,\n",
    "    config_file_prefix=\"dmrg_example_run_\",\n",
    ")\n",
    "print(f\"config_files_list: {config_files_list}\")\n",
    "# print(f\"config_dict_single_file_list: {config_dict_single_file_list}\")\n",
    "\n",
    "# Parameters for when using SLURM on a cluster\n",
    "submit_dict = {\n",
    "    \"time_cap_string\": \"00-23:59:00\",\n",
    "    \"job_name\": \"dmrg_example_run_\",\n",
    "    \"email\": \"eample_email@example.com\",\n",
    "    \"account_name\": \"example\",\n",
    "    \"tasks_per_node\": \"1\",\n",
    "    \"cpus_per_task\": \"40\",\n",
    "    \"partition\": \"debug\",\n",
    "    \"python_environment_location\": \"../env_qb_benchmark\",\n",
    "}\n",
    "\n",
    "# Generate python and SLURM submission scripts\n",
    "slurm_scripts.gen_run_files(submit_dict, config_dict_single_file_list)\n",
    "\n",
    "\n",
    "# submit_commands only for use on a cluster with SLURM installed\n",
    "submit_commands = slurm_scripts.gen_submit_commands(config_dict_single_file_list)\n",
    "print(f\"submit_commands: \\n{submit_commands}\")"
   ]
  },
  {
   "cell_type": "markdown",
   "metadata": {},
   "source": [
    "### Run DMRG"
   ]
  },
  {
   "cell_type": "code",
   "execution_count": null,
   "metadata": {},
   "outputs": [],
   "source": [
    "# Run DMRG on the FCIDUMPs\n",
    "scratch_sim_path = Path(local_store_path) / Path(\"scratch_sim\")\n",
    "scratch_sim_path.mkdir(parents=True, exist_ok=True)\n",
    "scratch_sim_path_absolute = scratch_sim_path.resolve()\n",
    "dmrg_hdf5_files = []\n",
    "for config_dict in config_dict_single_file_list:\n",
    "\n",
    "    data_config = config_dict[\"data_config\"]\n",
    "    python_run_file_name = data_config[\"python_run_file\"]\n",
    "    os.environ[\"SCRATCH\"] = str(scratch_sim_path_absolute)\n",
    "\n",
    "    # Run DMRG\n",
    "    os.system(f\"{str(environment_path)}/bin/python {python_run_file_name}\")\n",
    "    print(\"DMRG NOW EXITED\")\n",
    "\n",
    "    # Get results\n",
    "    main_storage_folder_path = data_config[\"main_storage_folder_path\"]\n",
    "    hdf5_file_path = Path(main_storage_folder_path) / Path(\"dmrg_results.hdf5\")\n",
    "    dmrg_hdf5_files.append(hdf5_file_path)\n",
    "\n",
    "    with h5py.File(hdf5_file_path, \"r\") as f:\n",
    "        dmrg_energies = f[\"/final_dmrg_results/past_energies_dmrg\"][:]\n",
    "        dmrg_bond_dimensions = f[\"/final_dmrg_results/bond_dims_used\"][:]\n",
    "        discarded_weights = f[\"/final_dmrg_results/past_discarded_weights\"][:]\n",
    "\n",
    "        h_min_e_optket_norm = float(\n",
    "            f[\"/first_preloop_calc/dmrg_results/h_min_e_optket_norm\"][()]\n",
    "        )\n",
    "        variance = float(f[\"/first_preloop_calc/dmrg_results/optket_variance\"][()])\n",
    "        v_score_numerator = float(\n",
    "            f[\"/first_preloop_calc/dmrg_results/v_score_numerator\"][()]\n",
    "        )\n",
    "        deviation_init_ket = float(\n",
    "            f[\"/first_preloop_calc/dmrg_results/deviation_init_ket\"][()][0]\n",
    "        )\n",
    "        v_score_init_ket = float(\n",
    "            f[\"/first_preloop_calc/dmrg_results/v_score_init_ket\"][()][0]\n",
    "        )\n",
    "        hf_energy = float(f[\"/first_preloop_calc/dmrg_results/hf_energy\"][()])\n",
    "        deviation_hf = float(f[\"/first_preloop_calc/dmrg_results/deviation_hf\"][()][0])\n",
    "        v_score_hartree_fock = float(\n",
    "            f[\"/first_preloop_calc/dmrg_results/v_score_hartree_fock\"][()][0]\n",
    "        )\n",
    "        initial_ket_energy = float(\n",
    "            f[\"/first_preloop_calc/dmrg_results/initial_ket_energy\"][()]\n",
    "        )\n",
    "\n",
    "    print(f\"dmrg_energies: {dmrg_energies}\")\n",
    "    print(f\"dmrg_bond_dimensions: {dmrg_bond_dimensions}\")\n",
    "    print(f\"discarded_weights: {discarded_weights}\")\n",
    "    print(f\"h_min_e_optket_norm: {h_min_e_optket_norm}\")\n",
    "    print(f\"variance: {variance}\")\n",
    "    print(f\"v_score_numerator: {v_score_numerator}\")\n",
    "    print(f\"deviation_init_ket: {deviation_init_ket}\")\n",
    "    print(f\"v_score_init_ket: {v_score_init_ket}\")\n",
    "    print(f\"hf_energy: {hf_energy}\")\n",
    "    print(f\"deviation_hf: {deviation_hf}\")\n",
    "    print(f\"v_score_hartree_fock: {v_score_hartree_fock}\")\n",
    "    print(f\"initial_ket_energy: {initial_ket_energy}\")"
   ]
  },
  {
   "cell_type": "markdown",
   "metadata": {},
   "source": [
    "### Collect Solution Data"
   ]
  },
  {
   "cell_type": "code",
   "execution_count": null,
   "metadata": {},
   "outputs": [],
   "source": [
    "uuid_fcidump_mapping_dict = run_support.get_uuid_fcidump_mapping(submit_commands, local_store_path)\n",
    "print(uuid_fcidump_mapping_dict)\n"
   ]
  },
  {
   "cell_type": "code",
   "execution_count": null,
   "metadata": {},
   "outputs": [],
   "source": [
    "all_dmrgh5_data = run_support.collect_dmrg_data(dmrg_hdf5_files, uuid_fcidump_mapping_dict)\n",
    "all_dmrgh5_data = run_support.filter_lowest_energy_data(all_dmrgh5_data)"
   ]
  },
  {
   "cell_type": "code",
   "execution_count": null,
   "metadata": {},
   "outputs": [],
   "source": [
    "prob_inst_data_sol_dict = run_support.map_fcidump_to_problem_instances(\n",
    "    chosen_problem_instance_files, problem_instance_files_path, all_dmrgh5_data\n",
    ")\n",
    "print(prob_inst_data_sol_dict)\n"
   ]
  },
  {
   "cell_type": "markdown",
   "metadata": {},
   "source": [
    "### Save solution json files"
   ]
  },
  {
   "cell_type": "code",
   "execution_count": null,
   "metadata": {},
   "outputs": [],
   "source": [
    "# Save the solution files\n",
    "saved_files = run_support.create_solution_files(\n",
    "    prob_inst_data_sol_dict,\n",
    "    solution_save_location,\n",
    "    json_solution_schema_url_file,\n",
    "    contact_info,\n",
    "    solver_details,\n",
    ")\n",
    "\n",
    "# Validate the saved files\n",
    "for sol_file in saved_files:\n",
    "    with open(sol_file, \"r\") as f:\n",
    "        sol_data = json.load(f)\n",
    "        qb_gsee_benchmark.utils.validate_json(json_dict=sol_data)\n",
    "        print(f\"File {sol_file} is valid.\")"
   ]
  },
  {
   "cell_type": "markdown",
   "metadata": {},
   "source": [
    "### Remove Temporary Files"
   ]
  },
  {
   "cell_type": "code",
   "execution_count": 12,
   "metadata": {},
   "outputs": [],
   "source": [
    "if remove_temp_files:\n",
    "    os.remove(\"dmrghandler.log\")\n",
    "    os.system(f\"rm -r {scratch_sim_path}\")\n",
    "    os.system(f\"rm -r {local_store_path}\")\n",
    "    os.system(f\"rm -r config_store\")\n",
    "    os.system(f\"rm -r tmp_dir\")\n",
    "    "
   ]
  }
 ],
 "metadata": {
  "kernelspec": {
   "display_name": "env_qb_benchmark",
   "language": "python",
   "name": "python3"
  },
  "language_info": {
   "codemirror_mode": {
    "name": "ipython",
    "version": 3
   },
   "file_extension": ".py",
   "mimetype": "text/x-python",
   "name": "python",
   "nbconvert_exporter": "python",
   "pygments_lexer": "ipython3",
   "version": "3.10.14"
  }
 },
 "nbformat": 4,
 "nbformat_minor": 2
}
