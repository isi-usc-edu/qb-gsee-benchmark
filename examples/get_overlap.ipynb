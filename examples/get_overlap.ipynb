{
 "cells": [
  {
   "cell_type": "code",
   "execution_count": 1,
   "metadata": {},
   "outputs": [],
   "source": [
    "import h5py, os, glob, json\n",
    "from block2 import SU2\n",
    "from pyblock2.driver.core import DMRGDriver, SymmetryTypes\n",
    "import pandas as pd\n",
    "import numpy as np\n",
    "from dmrg_utils import load_mps, max_det_coeff, expand_csf\n",
    "from cas_utils import log_hilbert_space_size\n",
    "from matplotlib import pyplot as plt\n",
    "from pathlib import Path\n",
    "import urllib.request"
   ]
  },
  {
   "cell_type": "code",
   "execution_count": 2,
   "metadata": {},
   "outputs": [],
   "source": [
    "# General parameters\n",
    "repository_url = \"https://github.com/isi-usc-edu/qb-gsee-benchmark/archive/refs/heads/main.zip\"\n",
    "problem_instance_files_repository_path = (\n",
    "    \"problem_instances\"\n",
    ")"
   ]
  },
  {
   "cell_type": "code",
   "execution_count": 3,
   "metadata": {},
   "outputs": [],
   "source": [
    "# Download problem instance files\n",
    "repository_filepath = Path(\"repository.zip\")\n",
    "\n",
    "repository_path = Path(\"qb-gsee-benchmark-main\")\n",
    "if not repository_path.exists():\n",
    "    # Download repository\n",
    "    urllib.request.urlretrieve(repository_url, repository_filepath.name)\n",
    "    # unzip repository\n",
    "    os.system(f\"unzip {repository_filepath}\")\n",
    "\n",
    "problem_instance_files_path = repository_path / problem_instance_files_repository_path\n",
    "instance_files = list(problem_instance_files_path.glob('problem_instance.*.json'))"
   ]
  },
  {
   "cell_type": "code",
   "execution_count": 4,
   "metadata": {},
   "outputs": [],
   "source": [
    "# Retrieve relevant metadata\n",
    "metadata = []\n",
    "\n",
    "for file in instance_files:\n",
    "    with open(file, 'r') as jf:\n",
    "        json_data = json.load(jf)\n",
    "    \n",
    "    \n",
    "    for task_data in json_data['tasks']:\n",
    "        features = dict(task_data['features'])\n",
    "        #assert len(task_data['supporting_files']) == 1 \n",
    "        #if len(task_data['supporting_files']) > 1:\n",
    "        #    print(task_data['task_uuid'])\n",
    "        #    print(f'Number of supporting files : {len(task_data[\"supporting_files\"])}')\n",
    "        #    for sinfo in task_data['supporting_files']:\n",
    "        #        print(sinfo)\n",
    "        #    break\n",
    "        for sinfo in task_data['supporting_files']:\n",
    "            if 'fcidump' in sinfo['instance_data_object_url'] or 'FCIDUMP' in sinfo['instance_data_object_url']:\n",
    "                features = {**features, **sinfo}\n",
    "                break\n",
    "\n",
    "        if not 'instance_data_object_url' in features.keys():\n",
    "            print(f'{task_data[\"task_uuid\"]} does not have an fcidump!')\n",
    "            print(task_data['supporting_files'])\n",
    "            print(10*'-')\n",
    "\n",
    "        features['reference_energy'] = task_data['requirements'].get('reference_energy')\n",
    "        features['reference_energy_units'] = task_data['requirements'].get('reference_energy_units')\n",
    "        features['task_uuid'] = task_data['task_uuid']\n",
    "        metadata.append(features)\n",
    "\n",
    "metadata = pd.DataFrame(metadata)"
   ]
  },
  {
   "cell_type": "code",
   "execution_count": 5,
   "metadata": {},
   "outputs": [],
   "source": [
    "metadata_0 = pd.DataFrame(metadata.loc[~metadata.avas_ne.isna()])\n",
    "metadata_1 = pd.DataFrame(metadata.loc[metadata.avas_ne.isna()])\n",
    "metadata_0.drop(columns=['num_electrons', 'num_orbitals'], inplace=True)\n",
    "metadata_1.drop(columns=['avas_ne', 'avas_no'], inplace=True)\n",
    "metadata_0.rename(columns={'avas_ne' : 'num_electrons', 'avas_no' : 'num_orbitals'}, inplace=True)\n",
    "metadata = pd.concat([metadata_0, metadata_1], ignore_index=True)"
   ]
  },
  {
   "cell_type": "code",
   "execution_count": 6,
   "metadata": {},
   "outputs": [
    {
     "data": {
      "text/plain": [
       "Index(['molecule_name', 'geometry', 'basis_set', 'charge', 'multiplicity',\n",
       "       'instance_data_object_uuid', 'instance_data_object_url',\n",
       "       'instance_data_checksum', 'instance_data_checksum_type',\n",
       "       'reference_energy', 'reference_energy_units', 'task_uuid',\n",
       "       'utility_scale', 'software_used', 'avas_atomic_orbitals', 'avas_minao',\n",
       "       'num_electrons', 'num_orbitals', 'nbasis', 'correlated_electrons'],\n",
       "      dtype='object')"
      ]
     },
     "execution_count": 6,
     "metadata": {},
     "output_type": "execute_result"
    }
   ],
   "source": [
    "metadata.columns"
   ]
  },
  {
   "cell_type": "code",
   "execution_count": 7,
   "metadata": {},
   "outputs": [],
   "source": [
    "#metadata.loc[metadata['instance_data_object_url'].isna()]"
   ]
  },
  {
   "cell_type": "code",
   "execution_count": 8,
   "metadata": {},
   "outputs": [
    {
     "name": "stdout",
     "output_type": "stream",
     "text": [
      "['9030e9c9-0323-413c-a98e-aba16b180ba7', 'c7c653b0-4440-4a36-a66b-8b81a9a351c7', '82f35801-6276-4090-a9aa-b821d94708d4', '362386c9-f0c2-483e-a64d-52208ab9bbc1', '61ad4cfe-b057-4dd8-bd06-ed56347745c1', 'fc25a232-d249-4e1c-a9ec-360cab33f779', 'b99ec02f-b46a-43fe-8a87-1b3286e072d8', '8874bf11-f594-41df-b8a0-d2a7441904a1', '202e6184-1e7d-4c02-a82a-f588b6abf809', '7c8f0a36-cda5-4b33-bb46-4e58a15b37a1', 'cbab5937-5e2f-4f3f-819e-ede8b66d7238', 'c28e09e1-5983-42f7-9ecb-b271438ebcc8', '881f5275-83eb-470c-80fe-eebb7ced30e9', 'e0de65ed-e45e-46e0-a57b-c6ad4efbdafe', '6918e02b-1e04-40bf-a800-1c9ed100d261', 'a2ad41b8-37bb-44e1-be3e-df1052952e9c', 'b4968ccd-6711-4173-8f80-f16094b3e0cd', 'ee2925f1-a302-4c21-b33c-5cb30b10270f', 'b86457a4-abf4-43c9-9c08-2397e95b7c0f', '7148b36a-0571-4a41-9239-19a97339f68a']\n"
     ]
    }
   ],
   "source": [
    "task_uuid_incomp = metadata.loc[metadata.num_electrons.isna()]['task_uuid'].to_list()\n",
    "print(task_uuid_incomp)"
   ]
  },
  {
   "cell_type": "code",
   "execution_count": 9,
   "metadata": {},
   "outputs": [],
   "source": [
    "from utils import retrieve_fcidump_from_sftp\n",
    "username = 'darpa-qb-zapata'\n",
    "key_path = '/Users/akunitsa/.ssh/darpa-qb-zapata-key.ppk'\n",
    "def process_fcidump(r):\n",
    "    if r['task_uuid'] in task_uuid_incomp:\n",
    "        #print(r['task_uuid'])\n",
    "        #print(r['instance_data_object_url'])\n",
    "        fci = retrieve_fcidump_from_sftp(r['instance_data_object_url'], username, key_path)\n",
    "        return (fci['NELEC'], fci['NORB'], fci['MS2'] + 1)\n",
    "    else:\n",
    "        return (r['num_electrons'], r['num_orbitals'], r['multiplicity'])"
   ]
  },
  {
   "cell_type": "code",
   "execution_count": 10,
   "metadata": {},
   "outputs": [
    {
     "name": "stdout",
     "output_type": "stream",
     "text": [
      "Downloading gsee/FCIDUMP_d_1.68_b_sto-3g_ne_12.3092dd74-660d-4c7a-9d43-16d1436e084b.gz to FCIDUMP_d_1.68_b_sto-3g_ne_12.3092dd74-660d-4c7a-9d43-16d1436e084b.gz...\n",
      "Parsing FCIDUMP_d_1.68_b_sto-3g_ne_12.3092dd74-660d-4c7a-9d43-16d1436e084b\n",
      "Downloading gsee/FCIDUMP_d_1.68_b_sto-3g_ne_28.96843098-e69d-4d1f-8a88-5b24826f7390.gz to FCIDUMP_d_1.68_b_sto-3g_ne_28.96843098-e69d-4d1f-8a88-5b24826f7390.gz...\n",
      "Parsing FCIDUMP_d_1.68_b_sto-3g_ne_28.96843098-e69d-4d1f-8a88-5b24826f7390\n",
      "Downloading gsee/FCIDUMP_d_1.68_b_cc-pvdz-dk_ne_12.673dfe91-d90e-4ecd-8560-d6d74de11070.gz to FCIDUMP_d_1.68_b_cc-pvdz-dk_ne_12.673dfe91-d90e-4ecd-8560-d6d74de11070.gz...\n",
      "Parsing FCIDUMP_d_1.68_b_cc-pvdz-dk_ne_12.673dfe91-d90e-4ecd-8560-d6d74de11070\n",
      "Downloading gsee/FCIDUMP_d_1.68_b_cc-pvdz-dk_ne_28.4412b7d6-86db-4616-9dd2-2c32ee02560f.gz to FCIDUMP_d_1.68_b_cc-pvdz-dk_ne_28.4412b7d6-86db-4616-9dd2-2c32ee02560f.gz...\n",
      "Parsing FCIDUMP_d_1.68_b_cc-pvdz-dk_ne_28.4412b7d6-86db-4616-9dd2-2c32ee02560f\n",
      "Downloading gsee/FCIDUMP_d_2.0_b_sto-3g_ne_12.cdf017c4-7c30-4274-9567-f5e55a6ba857.gz to FCIDUMP_d_2.0_b_sto-3g_ne_12.cdf017c4-7c30-4274-9567-f5e55a6ba857.gz...\n",
      "Parsing FCIDUMP_d_2.0_b_sto-3g_ne_12.cdf017c4-7c30-4274-9567-f5e55a6ba857\n",
      "Downloading gsee/FCIDUMP_d_2.0_b_sto-3g_ne_28.d9341cde-90e8-4d1e-beb2-4e40246d31ce.gz to FCIDUMP_d_2.0_b_sto-3g_ne_28.d9341cde-90e8-4d1e-beb2-4e40246d31ce.gz...\n",
      "Parsing FCIDUMP_d_2.0_b_sto-3g_ne_28.d9341cde-90e8-4d1e-beb2-4e40246d31ce\n",
      "Downloading gsee/FCIDUMP_d_2.0_b_cc-pvdz-dk_ne_12.5439a548-153b-4990-be12-f0e33c30fe63.gz to FCIDUMP_d_2.0_b_cc-pvdz-dk_ne_12.5439a548-153b-4990-be12-f0e33c30fe63.gz...\n",
      "Parsing FCIDUMP_d_2.0_b_cc-pvdz-dk_ne_12.5439a548-153b-4990-be12-f0e33c30fe63\n",
      "Downloading gsee/FCIDUMP_d_2.0_b_cc-pvdz-dk_ne_28.e2995852-9911-4021-a82f-5b14ddb2d5c8.gz to FCIDUMP_d_2.0_b_cc-pvdz-dk_ne_28.e2995852-9911-4021-a82f-5b14ddb2d5c8.gz...\n",
      "Parsing FCIDUMP_d_2.0_b_cc-pvdz-dk_ne_28.e2995852-9911-4021-a82f-5b14ddb2d5c8\n",
      "Downloading gsee/FCIDUMP_d_3.0_b_sto-3g_ne_12.67acc90d-1a9e-49a7-98a1-8ca643dca272.gz to FCIDUMP_d_3.0_b_sto-3g_ne_12.67acc90d-1a9e-49a7-98a1-8ca643dca272.gz...\n",
      "Parsing FCIDUMP_d_3.0_b_sto-3g_ne_12.67acc90d-1a9e-49a7-98a1-8ca643dca272\n",
      "Downloading gsee/FCIDUMP_d_3.0_b_sto-3g_ne_28.01d526fb-276e-4369-85d4-66a553a1d02e.gz to FCIDUMP_d_3.0_b_sto-3g_ne_28.01d526fb-276e-4369-85d4-66a553a1d02e.gz...\n",
      "Parsing FCIDUMP_d_3.0_b_sto-3g_ne_28.01d526fb-276e-4369-85d4-66a553a1d02e\n",
      "Downloading gsee/FCIDUMP_d_3.0_b_cc-pvdz-dk_ne_12.b0eb2de4-1286-4cfb-8724-e5e4bfc7a4f4.gz to FCIDUMP_d_3.0_b_cc-pvdz-dk_ne_12.b0eb2de4-1286-4cfb-8724-e5e4bfc7a4f4.gz...\n",
      "Parsing FCIDUMP_d_3.0_b_cc-pvdz-dk_ne_12.b0eb2de4-1286-4cfb-8724-e5e4bfc7a4f4\n",
      "Downloading gsee/FCIDUMP_d_3.0_b_cc-pvdz-dk_ne_28.2101e6fa-9fb3-4697-98be-25a4e0de2079.gz to FCIDUMP_d_3.0_b_cc-pvdz-dk_ne_28.2101e6fa-9fb3-4697-98be-25a4e0de2079.gz...\n",
      "Parsing FCIDUMP_d_3.0_b_cc-pvdz-dk_ne_28.2101e6fa-9fb3-4697-98be-25a4e0de2079\n",
      "Downloading gsee/FCIDUMP_g_ring_b_cc-pvdz.b0c72570-cf06-4ecc-ae64-52a65720c849.gz to FCIDUMP_g_ring_b_cc-pvdz.b0c72570-cf06-4ecc-ae64-52a65720c849.gz...\n",
      "Parsing FCIDUMP_g_ring_b_cc-pvdz.b0c72570-cf06-4ecc-ae64-52a65720c849\n",
      "Downloading gsee/FCIDUMP_g_ring_b_sto-3g.598f7475-c056-4a46-8d20-5159c73e5d02.gz to FCIDUMP_g_ring_b_sto-3g.598f7475-c056-4a46-8d20-5159c73e5d02.gz...\n",
      "Parsing FCIDUMP_g_ring_b_sto-3g.598f7475-c056-4a46-8d20-5159c73e5d02\n",
      "Downloading gsee/FCIDUMP_g_ring_b_cc-pvtz.8fc9b179-ff7d-4402-b0cf-18ec074b211a.gz to FCIDUMP_g_ring_b_cc-pvtz.8fc9b179-ff7d-4402-b0cf-18ec074b211a.gz...\n",
      "Parsing FCIDUMP_g_ring_b_cc-pvtz.8fc9b179-ff7d-4402-b0cf-18ec074b211a\n",
      "Downloading gsee/FCIDUMP_g_bent_b_cc-pvdz.1a42101c-3c00-4105-8ed3-9275bf0d18db.gz to FCIDUMP_g_bent_b_cc-pvdz.1a42101c-3c00-4105-8ed3-9275bf0d18db.gz...\n",
      "Parsing FCIDUMP_g_bent_b_cc-pvdz.1a42101c-3c00-4105-8ed3-9275bf0d18db\n",
      "Downloading gsee/FCIDUMP_g_bent_b_sto-3g.93698b08-3188-4961-b551-50ac2c1e62b3.gz to FCIDUMP_g_bent_b_sto-3g.93698b08-3188-4961-b551-50ac2c1e62b3.gz...\n",
      "Parsing FCIDUMP_g_bent_b_sto-3g.93698b08-3188-4961-b551-50ac2c1e62b3\n",
      "Downloading gsee/FCIDUMP_g_bent_b_cc-pvtz.8b6ad6f7-f004-4941-95b2-829eb3723c8d.gz to FCIDUMP_g_bent_b_cc-pvtz.8b6ad6f7-f004-4941-95b2-829eb3723c8d.gz...\n",
      "Parsing FCIDUMP_g_bent_b_cc-pvtz.8b6ad6f7-f004-4941-95b2-829eb3723c8d\n",
      "Downloading gsee/FCIDUMP_benzene_sto-3g_4c655f65-1899-469c-975a-a3caec750697.gz to FCIDUMP_benzene_sto-3g_4c655f65-1899-469c-975a-a3caec750697.gz...\n",
      "Parsing FCIDUMP_benzene_sto-3g_4c655f65-1899-469c-975a-a3caec750697\n",
      "Downloading gsee/FCIDUMP_benzene_cc-pvdz_96ff0e22-a3ab-49f3-aee9-9a1886cbf850.gz to FCIDUMP_benzene_cc-pvdz_96ff0e22-a3ab-49f3-aee9-9a1886cbf850.gz...\n",
      "Parsing FCIDUMP_benzene_cc-pvdz_96ff0e22-a3ab-49f3-aee9-9a1886cbf850\n"
     ]
    }
   ],
   "source": [
    "metadata[['num_electrons', 'num_orbitals', 'multiplicity']] = metadata.apply(process_fcidump, axis=1, result_type='expand')"
   ]
  },
  {
   "cell_type": "code",
   "execution_count": 11,
   "metadata": {},
   "outputs": [],
   "source": [
    "#metadata.multiplicity.unique()"
   ]
  },
  {
   "cell_type": "code",
   "execution_count": 12,
   "metadata": {},
   "outputs": [],
   "source": [
    "# We will exclude Cr2 instances here since their are not properly fromatted\n",
    "#metadata = metadata.loc[~metadata.num_electrons.isna()]"
   ]
  },
  {
   "cell_type": "code",
   "execution_count": 13,
   "metadata": {},
   "outputs": [
    {
     "name": "stdout",
     "output_type": "stream",
     "text": [
      "                              task_uuid  \\\n",
      "0  0f0c8766-4bf5-4c1e-991a-9dafe9bc8f27   \n",
      "\n",
      "                                        solution_dir  \n",
      "0  ../data/data_storage/V0_vdz_a1436084-b348-4c11...  \n"
     ]
    }
   ],
   "source": [
    "mps_data_dir = Path('../data/data_storage/') # Location of MPSs;\n",
    "list_of_solution_dirs = list(mps_data_dir.glob('*'))\n",
    "solution_paths = []\n",
    "for sol_dir in list_of_solution_dirs:\n",
    "    task_uuid = os.path.basename(sol_dir).split('_')[-1]\n",
    "    solution_paths.append({'task_uuid' : task_uuid, 'solution_dir' : sol_dir})\n",
    "sol_paths = pd.DataFrame(solution_paths)\n",
    "print(sol_paths.head(1))"
   ]
  },
  {
   "cell_type": "code",
   "execution_count": 14,
   "metadata": {},
   "outputs": [],
   "source": [
    "processed_uuids = []\n",
    "if os.path.isfile('overlaps.csv'):\n",
    "    data = pd.read_csv('overlaps.csv')\n",
    "    processed_uuids = data['task_uuid'].to_list()"
   ]
  },
  {
   "cell_type": "code",
   "execution_count": 15,
   "metadata": {},
   "outputs": [
    {
     "name": "stdout",
     "output_type": "stream",
     "text": [
      "../data/data_storage/38_1_ts_noncan_0_466245ef-7efa-480e-9724-1dcb4534b820_9da97ef6-4bad-4c82-8576-9b8e539a7ba8/mps_storage/dmrg_loop_027_ket_optimized\n",
      "../data/data_storage/39_1_ts_noncan_0_4ded7042-dd68-4fa9-8e23-56d839c26910_f20db1b1-86e3-4ddf-96ff-a6d37f331935/mps_storage/dmrg_loop_033_ket_optimized\n",
      "../data/data_storage/40_1_ts_noncan_0_05efedcd-ca71-4522-a5b9-8ffeb945fb78_742be33c-0982-4b06-b324-1d86242e28d9/mps_storage/first_preloop_calc_ket_optimized\n",
      "../data/data_storage/41_1_ts_noncan_0_b1147cc6-f8d8-4fb3-a037-d6ed92203ccc_3b49563d-948a-4ecb-84a0-d3c0c2c0d217/mps_storage/first_preloop_calc_ket_optimized\n",
      "../data/data_storage/42_1_star_noncan_0_9ca331da-b0f6-4bc8-8387-3fffc02d9672_950da653-13ce-4cd7-95d8-5045ab03d4bc/mps_storage/dmrg_loop_036_ket_optimized\n",
      "../data/data_storage/43_1_star_noncan_0_881d2a46-e6b4-4fd5-bce4-b539222bf7ee_13821f5c-78a6-485c-9006-a17a234cde9f/mps_storage/dmrg_loop_048_ket_optimized\n",
      "../data/data_storage/44_1_star_noncan_0_a847b2fc-f824-4b5c-9bd2-44e1756f94ca_765594e5-44ac-41a2-89a7-f2ac03536379/mps_storage/first_preloop_calc_ket_optimized\n",
      "../data/data_storage/45_1_star_noncan_0_a66393b9-d8a6-4e8d-80c2-2563c8dc386d_858b9683-fc6c-4ebe-8c33-27f0d848f24f/mps_storage/first_preloop_calc_ket_optimized\n",
      "../data/data_storage/46_2_noncan_0_27360f9a-f72a-49d7-88d4-61bd89d6864b_1a013e9f-7eab-4a1b-b486-1d9e2d99e754/mps_storage/dmrg_loop_034_ket_optimized\n",
      "../data/data_storage/47_2_noncan_0_dcd290d7-2b84-4dc1-8495-9ce93fd18d28_001a0d11-165a-49c5-a334-643023029f40/mps_storage/dmrg_loop_048_ket_optimized\n",
      "../data/data_storage/48_2_noncan_0_6b92aee0-7d64-45ce-be69-304e9af553cf_1c9508e3-b9fe-44f1-ae58-c6339ef43f47/mps_storage/dmrg_loop_048_ket_optimized\n",
      "../data/data_storage/49_2_noncan_0_79074323-0867-487d-b3a5-ed33d086465d_6713517a-ab65-4381-aae1-0839dcd6c1a0/mps_storage/first_preloop_calc_ket_optimized\n",
      "../data/data_storage/50_6acme_0_96b693e1-15d1-4540-b79a-6f1878517ec7_4970c526-817f-4c04-8d7e-797526d5948d/mps_storage/dmrg_loop_045_ket_optimized\n",
      "../data/data_storage/51_6acme_0_8bf8dc58-83a5-4562-8617-bfd4af9be79c_d27fb590-4e90-4d5a-bdb8-37fbf22f528b/mps_storage/dmrg_loop_041_ket_optimized\n",
      "../data/data_storage/52_6acme_0_7f152671-a086-4faa-8c28-3f0aebcf9eca_a7cd2501-2f67-4fcd-b428-f6620f3596fe/mps_storage/first_preloop_calc_ket_optimized\n",
      "../data/data_storage/53_ts56_0_f4d3d5c0-3568-415a-b0b8-87367b1ad290_d3bcc63c-57ad-4346-8290-e36447186440/mps_storage/dmrg_loop_044_ket_optimized\n",
      "../data/data_storage/54_ts56_0_230b1216-4020-41b8-8f38-cb6b3dcf0b72_41907f9f-923d-49e3-80a9-519962110ae7/mps_storage/first_preloop_calc_ket_optimized\n",
      "../data/data_storage/55_ts56_0_4d052c14-9312-49be-b6a3-fa7fc9b8ddde_ad9ceeaf-d7be-46b7-95a9-15bfd33f5022/mps_storage/first_preloop_calc_ket_optimized\n",
      "../data/data_storage/56_5_0_c3776fab-41b5-4f93-a540-5a34ed27b655_adecdd92-73c7-416d-90da-b7a3da7ed50b/mps_storage/dmrg_loop_046_ket_optimized\n",
      "../data/data_storage/57_5_0_57cb548d-a577-4d18-b1af-70df2d5c8366_03c70feb-49b8-4113-831a-05e3ae55c66b/mps_storage/first_preloop_calc_ket_optimized\n",
      "../data/data_storage/58_5_0_4fa5562c-efca-487e-b403-d43e5892fdc7_0e936335-6370-4587-92f0-02eafaf650ed/mps_storage/first_preloop_calc_ket_optimized\n",
      "../data/data_storage/2_co2_0_c4c348aa-0911-4c04-af8c-ea2d50bea1aa_4357d5bb-ed2b-466a-947b-e868afb81d3d/mps_storage/first_preloop_calc_ket_optimized\n",
      "../data/data_storage/7_melact_0_863f19af-d5e4-4438-bc27-d5923faafeb7_b164af91-a758-445c-8e78-610ffd2ad795/mps_storage/dmrg_loop_009_ket_optimized\n",
      "../data/data_storage/8_melact_0_43d2f1ce-bea3-4e55-8360-6fc705864bc5_28bd4997-c04c-4914-9984-0101713041fe/mps_storage/dmrg_loop_015_ket_optimized\n",
      "../data/data_storage/0_ru_macho_noncan_0_dc2860e1-5500-48b0-b2f3-92d12dd58eb4_dcf2b441-b297-4a89-ae18-5778ec2d674d/mps_storage/first_preloop_calc_ket_optimized\n",
      "../data/data_storage/1_ru_macho_noncan_0_f8bc1bee-1ec4-4ddb-98d6-67e92cd6bc8f_6346b7fe-a4a5-4b10-a79b-706d4339923e/mps_storage/dmrg_loop_050_ket_optimized\n",
      "../data/data_storage/3_ts_ru_macho_co2_noncan_0_d63dfeb6-5e42-4ce8-b717-bd40dd380dd4_68db6781-dd54-43c4-b667-7b754c4d5cdb/mps_storage/dmrg_loop_030_ket_optimized\n",
      "../data/data_storage/4_ts_ru_macho_co2_noncan_0_4ab765e9-ec4e-488b-af97-525f78c8e5ca_d3ecd428-ee03-4d8b-aa14-af4d935781ed/mps_storage/dmrg_loop_045_ket_optimized\n",
      "../data/data_storage/5_ts_ru_macho_melact_noncan_0_46bcecc2-b4a3-4112-95db-2cf1eee4cc03_89253c8f-0f01-4046-a138-1bada22f0a6a/mps_storage/dmrg_loop_024_ket_optimized\n",
      "../data/data_storage/6_ts_ru_macho_melact_noncan_0_f76a72a4-532e-4e1e-9aa9-2a55caed341d_842d2152-2f91-4dce-b088-7ed26afb2381/mps_storage/dmrg_loop_045_ket_optimized\n",
      "../data/data_storage/32_2ru_III_3pl_noncan_0_7876797c-3793-47e9-8f18-99d9a5af532b_5509795a-90ce-45d6-b03d-db956a5da5b2/mps_storage/first_preloop_calc_ket_optimized\n",
      "../data/data_storage/33_2ru_III_3pl_noncan_0_371af149-e89d-487e-9903-e235e6d11af4_bc3520b5-bf25-4a43-892c-8d7e9a690fe2/mps_storage/first_preloop_calc_ket_optimized\n",
      "../data/data_storage/34_3ruo_IV_2pl_noncan_0_8285ea97-55b9-41c7-b3dd-60b3eda15367_d937e005-3688-4138-9465-426798087395/mps_storage/dmrg_loop_013_ket_optimized\n",
      "../data/data_storage/35_3ruo_IV_2pl_noncan_0_945a5ed1-42e5-49fc-8b85-09c2c91175df_ace55695-1ca9-4153-8fd4-55ed6658cf8c/mps_storage/dmrg_loop_049_ket_optimized\n",
      "../data/data_storage/36_1ru_II_2pl_noncan_0_8fbc333c-1de7-47ac-bd7e-e7de1ddc4716_dab492c3-27fe-4ac3-8c98-de2563caf66c/mps_storage/first_preloop_calc_ket_optimized\n",
      "../data/data_storage/37_1ru_II_2pl_noncan_0_70a17eb0-ba4e-4ec4-aebd-3d4506d46514_a475af8e-cb0b-4533-906d-a6b8eda313e7/mps_storage/dmrg_loop_034_ket_optimized\n"
     ]
    }
   ],
   "source": [
    "overlap_data = []\n",
    "missing_solutions = []\n",
    "for index, row in metadata.iterrows():\n",
    "\n",
    "    if row['task_uuid'] in processed_uuids:\n",
    "        continue\n",
    "\n",
    "    n_electrons = int(row[\"num_electrons\"])\n",
    "    spin = int(row[\"multiplicity\"]) - 1\n",
    "    n_cas = int(row[\"num_orbitals\"])\n",
    "    task_uuid = row[\"task_uuid\"]\n",
    "\n",
    "    path_to_solution = sol_paths.query(f'task_uuid == \"{task_uuid}\"') \n",
    "    if path_to_solution.empty:\n",
    "        #print(full_path_to_solution['solution_dir'])\n",
    "        #print(f'Solution not found for {row[\"task_uuid\"]}')\n",
    "        missing_solutions.append({'task_uuid' : task_uuid, 'molecule' : row['molecule_name']})\n",
    "        continue\n",
    "    \n",
    "    driver = DMRGDriver(scratch=\"./tmp\", symm_type=SymmetryTypes.SU2, n_threads=4)\n",
    "    driver.initialize_system(\n",
    "        n_sites=int(n_cas),\n",
    "        n_elec=int(n_electrons),\n",
    "        spin=int(spin),\n",
    "    )\n",
    "    full_dir = path_to_solution['solution_dir'].item()/'mps_storage'\n",
    "    #print(full_dir)\n",
    "    dmrg_loop_dir_lst = list(full_dir.glob(\"*\"))\n",
    "    #print(dmrg_loop_dir_lst)\n",
    "    assert len(dmrg_loop_dir_lst) == 1 # we should have just one solution per instance\n",
    "    dmrg_loop_dir = dmrg_loop_dir_lst[0]\n",
    "    print(dmrg_loop_dir)\n",
    "\n",
    "    assert os.path.isfile(dmrg_loop_dir/'mps_info.bin')\n",
    "\n",
    "    ket = load_mps(dmrg_loop_dir)\n",
    "\n",
    "    coeff, csf = max_det_coeff(driver, ket, cutoff=0.0005)\n",
    "\n",
    "    overlap_data.append({'task_uuid' : task_uuid,\n",
    "                         'num_orbitals' : row['num_orbitals'], \n",
    "                         'num_electrons' : row['num_electrons'], \n",
    "                         'hf_coeff' : np.abs(coeff), \n",
    "                         'csf' : csf})\n",
    "        "
   ]
  },
  {
   "cell_type": "code",
   "execution_count": 16,
   "metadata": {},
   "outputs": [],
   "source": [
    "missing_solutions_df = pd.DataFrame(missing_solutions)\n",
    "overlap_data_df = pd.DataFrame(overlap_data)"
   ]
  },
  {
   "cell_type": "code",
   "execution_count": 17,
   "metadata": {},
   "outputs": [
    {
     "data": {
      "text/plain": [
       "array(['be_cc-pVDZ', 'V1_vtz'], dtype=object)"
      ]
     },
     "execution_count": 17,
     "metadata": {},
     "output_type": "execute_result"
    }
   ],
   "source": [
    "missing_solutions_df.molecule.unique()"
   ]
  },
  {
   "cell_type": "code",
   "execution_count": 18,
   "metadata": {},
   "outputs": [
    {
     "data": {
      "text/html": [
       "<div>\n",
       "<style scoped>\n",
       "    .dataframe tbody tr th:only-of-type {\n",
       "        vertical-align: middle;\n",
       "    }\n",
       "\n",
       "    .dataframe tbody tr th {\n",
       "        vertical-align: top;\n",
       "    }\n",
       "\n",
       "    .dataframe thead th {\n",
       "        text-align: right;\n",
       "    }\n",
       "</style>\n",
       "<table border=\"1\" class=\"dataframe\">\n",
       "  <thead>\n",
       "    <tr style=\"text-align: right;\">\n",
       "      <th></th>\n",
       "      <th>task_uuid</th>\n",
       "      <th>num_orbitals</th>\n",
       "      <th>num_electrons</th>\n",
       "      <th>hf_coeff</th>\n",
       "      <th>csf</th>\n",
       "    </tr>\n",
       "  </thead>\n",
       "  <tbody>\n",
       "    <tr>\n",
       "      <th>0</th>\n",
       "      <td>9da97ef6-4bad-4c82-8576-9b8e539a7ba8</td>\n",
       "      <td>18.0</td>\n",
       "      <td>22.0</td>\n",
       "      <td>0.736407</td>\n",
       "      <td>[3, 3, 3, 3, 3, 3, 0, 0, 0, 0, 3, 1, 3, 3, 0, ...</td>\n",
       "    </tr>\n",
       "    <tr>\n",
       "      <th>1</th>\n",
       "      <td>f20db1b1-86e3-4ddf-96ff-a6d37f331935</td>\n",
       "      <td>22.0</td>\n",
       "      <td>30.0</td>\n",
       "      <td>0.654199</td>\n",
       "      <td>[1, 3, 3, 3, 3, 3, 0, 2, 3, 3, 0, 3, 0, 0, 0, ...</td>\n",
       "    </tr>\n",
       "    <tr>\n",
       "      <th>2</th>\n",
       "      <td>742be33c-0982-4b06-b324-1d86242e28d9</td>\n",
       "      <td>34.0</td>\n",
       "      <td>50.0</td>\n",
       "      <td>0.252078</td>\n",
       "      <td>[3, 3, 0, 3, 1, 3, 3, 3, 3, 3, 3, 3, 3, 3, 3, ...</td>\n",
       "    </tr>\n",
       "    <tr>\n",
       "      <th>3</th>\n",
       "      <td>3b49563d-948a-4ecb-84a0-d3c0c2c0d217</td>\n",
       "      <td>36.0</td>\n",
       "      <td>50.0</td>\n",
       "      <td>0.179748</td>\n",
       "      <td>[0, 3, 1, 0, 3, 0, 3, 3, 3, 3, 3, 3, 2, 3, 1, ...</td>\n",
       "    </tr>\n",
       "    <tr>\n",
       "      <th>4</th>\n",
       "      <td>950da653-13ce-4cd7-95d8-5045ab03d4bc</td>\n",
       "      <td>18.0</td>\n",
       "      <td>22.0</td>\n",
       "      <td>0.540153</td>\n",
       "      <td>[1, 3, 1, 0, 0, 0, 0, 3, 0, 3, 2, 3, 3, 3, 3, ...</td>\n",
       "    </tr>\n",
       "  </tbody>\n",
       "</table>\n",
       "</div>"
      ],
      "text/plain": [
       "                              task_uuid  num_orbitals  num_electrons  \\\n",
       "0  9da97ef6-4bad-4c82-8576-9b8e539a7ba8          18.0           22.0   \n",
       "1  f20db1b1-86e3-4ddf-96ff-a6d37f331935          22.0           30.0   \n",
       "2  742be33c-0982-4b06-b324-1d86242e28d9          34.0           50.0   \n",
       "3  3b49563d-948a-4ecb-84a0-d3c0c2c0d217          36.0           50.0   \n",
       "4  950da653-13ce-4cd7-95d8-5045ab03d4bc          18.0           22.0   \n",
       "\n",
       "   hf_coeff                                                csf  \n",
       "0  0.736407  [3, 3, 3, 3, 3, 3, 0, 0, 0, 0, 3, 1, 3, 3, 0, ...  \n",
       "1  0.654199  [1, 3, 3, 3, 3, 3, 0, 2, 3, 3, 0, 3, 0, 0, 0, ...  \n",
       "2  0.252078  [3, 3, 0, 3, 1, 3, 3, 3, 3, 3, 3, 3, 3, 3, 3, ...  \n",
       "3  0.179748  [0, 3, 1, 0, 3, 0, 3, 3, 3, 3, 3, 3, 2, 3, 1, ...  \n",
       "4  0.540153  [1, 3, 1, 0, 0, 0, 0, 3, 0, 3, 2, 3, 3, 3, 3, ...  "
      ]
     },
     "execution_count": 18,
     "metadata": {},
     "output_type": "execute_result"
    }
   ],
   "source": [
    "overlap_data_df.head()"
   ]
  },
  {
   "cell_type": "code",
   "execution_count": 19,
   "metadata": {},
   "outputs": [
    {
     "data": {
      "text/plain": [
       "(36, 5)"
      ]
     },
     "execution_count": 19,
     "metadata": {},
     "output_type": "execute_result"
    }
   ],
   "source": [
    "overlap_data_df.shape"
   ]
  },
  {
   "cell_type": "code",
   "execution_count": 20,
   "metadata": {},
   "outputs": [],
   "source": [
    "overlap_data_df.rename(columns={'hf_coeff': 'overlap'}, inplace=True)\n",
    "overlap_data_df[['overlap', 'task_uuid']].to_csv('overlaps_.csv', index=False)"
   ]
  },
  {
   "cell_type": "code",
   "execution_count": null,
   "metadata": {},
   "outputs": [],
   "source": []
  }
 ],
 "metadata": {
  "kernelspec": {
   "display_name": "darpa",
   "language": "python",
   "name": "python3"
  },
  "language_info": {
   "codemirror_mode": {
    "name": "ipython",
    "version": 3
   },
   "file_extension": ".py",
   "mimetype": "text/x-python",
   "name": "python",
   "nbconvert_exporter": "python",
   "pygments_lexer": "ipython3",
   "version": "3.9.18"
  }
 },
 "nbformat": 4,
 "nbformat_minor": 2
}
